{
 "cells": [
  {
   "cell_type": "code",
   "execution_count": null,
   "metadata": {},
   "outputs": [],
   "source": [
    "import pandas as pd\n",
    "import numpy as np\n",
    "from keras.layers import Input, Embedding, Flatten, Dot\n",
    "from keras.models import Model\n",
    "import redis\n",
    "import fakeredis"
   ]
  },
  {
   "cell_type": "code",
   "execution_count": null,
   "metadata": {},
   "outputs": [],
   "source": [
    "# create a fake Redis database\n",
    "fake_redis = fakeredis.FakeStrictRedis()"
   ]
  },
  {
   "cell_type": "code",
   "execution_count": null,
   "metadata": {},
   "outputs": [],
   "source": [
    "# create sample data\n",
    "users = [\n",
    "    {'id': 1, 'name': 'John Doe', 'age': 30, 'gender': 'male', 'location': 'New York'},\n",
    "    {'id': 2, 'name': 'Jane Smith', 'age': 25, 'gender': 'female', 'location': 'San Francisco'},\n",
    "    {'id': 3, 'name': 'Bob Johnson', 'age': 35, 'gender': 'male', 'location': 'Chicago'},\n",
    "]\n",
    "\n",
    "courses = [\n",
    "    {'id': 1, 'name': 'Yoga for Beginners', 'level': 'beginner', 'duration': 30, 'price': 50},\n",
    "    {'id': 2, 'name': 'Weight Training 101', 'level': 'intermediate', 'duration': 45, 'price': 75},\n",
    "    {'id': 3, 'name': 'Marathon Training', 'level': 'advanced', 'duration': 60, 'price': 100},\n",
    "]\n",
    "\n",
    "# store the data in Redis\n",
    "for user in users:\n",
    "    fake_redis.hset(f\"user:{user['id']}\", str(user))\n",
    "for course in courses:\n",
    "    fake_redis.hset(f\"course:{course['id']}\", str(course))"
   ]
  },
  {
   "cell_type": "code",
   "execution_count": null,
   "metadata": {},
   "outputs": [],
   "source": [
    "from faker import Faker\n",
    "from gender_guesser.detector import Detector\n",
    "\n",
    "# Create an instance of the Faker class\n",
    "fake = Faker()\n",
    "# Create an instance of the Detector class\n",
    "detector = Detector()\n",
    "\n",
    "# Define the fields for your fake data\n",
    "fields = ['name', 'birthdate', 'gender', 'location']\n",
    "\n",
    "# Generate fake data for a specific number of records\n",
    "num_records = 10\n",
    "fake_data = []\n",
    "for _ in range(num_records):\n",
    "    #record = {field: fake.__getattr__(field)() for field in fields}\n",
    "    record = {'name': fake.name(), 'birthdate': fake.date_of_birth(), 'city': fake.city() , 'country': fake.country() }\n",
    "    record['gender'] = detector.get_gender(record['name'].split(' ')[0])\n",
    "    fake_data.append(record)\n",
    "\n",
    "# Print the generated fake data\n",
    "for record in fake_data:\n",
    "    print(record)"
   ]
  }
 ],
 "metadata": {
  "language_info": {
   "name": "python"
  },
  "orig_nbformat": 4
 },
 "nbformat": 4,
 "nbformat_minor": 2
}
