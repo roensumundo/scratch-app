{
 "cells": [
  {
   "cell_type": "code",
   "execution_count": 1,
   "metadata": {},
   "outputs": [],
   "source": [
    "import pandas as pd\n",
    "import numpy as np\n",
    "from keras.layers import Input, Embedding, Flatten, Dot\n",
    "from keras.models import Model\n",
    "import redis\n",
    "import fakeredis"
   ]
  },
  {
   "cell_type": "code",
   "execution_count": 2,
   "metadata": {},
   "outputs": [],
   "source": [
    "# create a fake Redis database\n",
    "fake_redis = fakeredis.FakeStrictRedis()"
   ]
  },
  {
   "cell_type": "code",
   "execution_count": 7,
   "metadata": {},
   "outputs": [
    {
     "ename": "DataError",
     "evalue": "Invalid input of type: 'NoneType'. Convert to a bytes, string, int or float first.",
     "output_type": "error",
     "traceback": [
      "\u001b[1;31m---------------------------------------------------------------------------\u001b[0m",
      "\u001b[1;31mDataError\u001b[0m                                 Traceback (most recent call last)",
      "\u001b[1;32mc:\\Users\\X512\\OneDrive\\Documents\\uni\\tfg\\scratch-app\\tests.ipynb Cell 3\u001b[0m in \u001b[0;36m1\n\u001b[0;32m     <a href='vscode-notebook-cell:/c%3A/Users/X512/OneDrive/Documents/uni/tfg/scratch-app/tests.ipynb#W2sZmlsZQ%3D%3D?line=13'>14</a>\u001b[0m \u001b[39m# store the data in Redis\u001b[39;00m\n\u001b[0;32m     <a href='vscode-notebook-cell:/c%3A/Users/X512/OneDrive/Documents/uni/tfg/scratch-app/tests.ipynb#W2sZmlsZQ%3D%3D?line=14'>15</a>\u001b[0m \u001b[39mfor\u001b[39;00m user \u001b[39min\u001b[39;00m users:\n\u001b[1;32m---> <a href='vscode-notebook-cell:/c%3A/Users/X512/OneDrive/Documents/uni/tfg/scratch-app/tests.ipynb#W2sZmlsZQ%3D%3D?line=15'>16</a>\u001b[0m     fake_redis\u001b[39m.\u001b[39;49mhset(\u001b[39mf\u001b[39;49m\u001b[39m\"\u001b[39;49m\u001b[39muser:\u001b[39;49m\u001b[39m{\u001b[39;49;00muser[\u001b[39m'\u001b[39;49m\u001b[39mid\u001b[39;49m\u001b[39m'\u001b[39;49m]\u001b[39m}\u001b[39;49;00m\u001b[39m\"\u001b[39;49m, \u001b[39mstr\u001b[39;49m(user))\n\u001b[0;32m     <a href='vscode-notebook-cell:/c%3A/Users/X512/OneDrive/Documents/uni/tfg/scratch-app/tests.ipynb#W2sZmlsZQ%3D%3D?line=16'>17</a>\u001b[0m \u001b[39mfor\u001b[39;00m course \u001b[39min\u001b[39;00m courses:\n\u001b[0;32m     <a href='vscode-notebook-cell:/c%3A/Users/X512/OneDrive/Documents/uni/tfg/scratch-app/tests.ipynb#W2sZmlsZQ%3D%3D?line=17'>18</a>\u001b[0m     fake_redis\u001b[39m.\u001b[39mhset(\u001b[39mf\u001b[39m\u001b[39m\"\u001b[39m\u001b[39mcourse:\u001b[39m\u001b[39m{\u001b[39;00mcourse[\u001b[39m'\u001b[39m\u001b[39mid\u001b[39m\u001b[39m'\u001b[39m]\u001b[39m}\u001b[39;00m\u001b[39m\"\u001b[39m, \u001b[39mstr\u001b[39m(course))\n",
      "File \u001b[1;32m~\\AppData\\Local\\Packages\\PythonSoftwareFoundation.Python.3.9_qbz5n2kfra8p0\\LocalCache\\local-packages\\Python39\\site-packages\\redis\\commands\\core.py:4952\u001b[0m, in \u001b[0;36mHashCommands.hset\u001b[1;34m(self, name, key, value, mapping, items)\u001b[0m\n\u001b[0;32m   4949\u001b[0m     \u001b[39mfor\u001b[39;00m pair \u001b[39min\u001b[39;00m mapping\u001b[39m.\u001b[39mitems():\n\u001b[0;32m   4950\u001b[0m         items\u001b[39m.\u001b[39mextend(pair)\n\u001b[1;32m-> 4952\u001b[0m \u001b[39mreturn\u001b[39;00m \u001b[39mself\u001b[39;49m\u001b[39m.\u001b[39;49mexecute_command(\u001b[39m\"\u001b[39;49m\u001b[39mHSET\u001b[39;49m\u001b[39m\"\u001b[39;49m, name, \u001b[39m*\u001b[39;49mitems)\n",
      "File \u001b[1;32m~\\AppData\\Local\\Packages\\PythonSoftwareFoundation.Python.3.9_qbz5n2kfra8p0\\LocalCache\\local-packages\\Python39\\site-packages\\redis\\client.py:1269\u001b[0m, in \u001b[0;36mRedis.execute_command\u001b[1;34m(self, *args, **options)\u001b[0m\n\u001b[0;32m   1266\u001b[0m conn \u001b[39m=\u001b[39m \u001b[39mself\u001b[39m\u001b[39m.\u001b[39mconnection \u001b[39mor\u001b[39;00m pool\u001b[39m.\u001b[39mget_connection(command_name, \u001b[39m*\u001b[39m\u001b[39m*\u001b[39moptions)\n\u001b[0;32m   1268\u001b[0m \u001b[39mtry\u001b[39;00m:\n\u001b[1;32m-> 1269\u001b[0m     \u001b[39mreturn\u001b[39;00m conn\u001b[39m.\u001b[39;49mretry\u001b[39m.\u001b[39;49mcall_with_retry(\n\u001b[0;32m   1270\u001b[0m         \u001b[39mlambda\u001b[39;49;00m: \u001b[39mself\u001b[39;49m\u001b[39m.\u001b[39;49m_send_command_parse_response(\n\u001b[0;32m   1271\u001b[0m             conn, command_name, \u001b[39m*\u001b[39;49margs, \u001b[39m*\u001b[39;49m\u001b[39m*\u001b[39;49moptions\n\u001b[0;32m   1272\u001b[0m         ),\n\u001b[0;32m   1273\u001b[0m         \u001b[39mlambda\u001b[39;49;00m error: \u001b[39mself\u001b[39;49m\u001b[39m.\u001b[39;49m_disconnect_raise(conn, error),\n\u001b[0;32m   1274\u001b[0m     )\n\u001b[0;32m   1275\u001b[0m \u001b[39mfinally\u001b[39;00m:\n\u001b[0;32m   1276\u001b[0m     \u001b[39mif\u001b[39;00m \u001b[39mnot\u001b[39;00m \u001b[39mself\u001b[39m\u001b[39m.\u001b[39mconnection:\n",
      "File \u001b[1;32m~\\AppData\\Local\\Packages\\PythonSoftwareFoundation.Python.3.9_qbz5n2kfra8p0\\LocalCache\\local-packages\\Python39\\site-packages\\redis\\retry.py:46\u001b[0m, in \u001b[0;36mRetry.call_with_retry\u001b[1;34m(self, do, fail)\u001b[0m\n\u001b[0;32m     44\u001b[0m \u001b[39mwhile\u001b[39;00m \u001b[39mTrue\u001b[39;00m:\n\u001b[0;32m     45\u001b[0m     \u001b[39mtry\u001b[39;00m:\n\u001b[1;32m---> 46\u001b[0m         \u001b[39mreturn\u001b[39;00m do()\n\u001b[0;32m     47\u001b[0m     \u001b[39mexcept\u001b[39;00m \u001b[39mself\u001b[39m\u001b[39m.\u001b[39m_supported_errors \u001b[39mas\u001b[39;00m error:\n\u001b[0;32m     48\u001b[0m         failures \u001b[39m+\u001b[39m\u001b[39m=\u001b[39m \u001b[39m1\u001b[39m\n",
      "File \u001b[1;32m~\\AppData\\Local\\Packages\\PythonSoftwareFoundation.Python.3.9_qbz5n2kfra8p0\\LocalCache\\local-packages\\Python39\\site-packages\\redis\\client.py:1270\u001b[0m, in \u001b[0;36mRedis.execute_command.<locals>.<lambda>\u001b[1;34m()\u001b[0m\n\u001b[0;32m   1266\u001b[0m conn \u001b[39m=\u001b[39m \u001b[39mself\u001b[39m\u001b[39m.\u001b[39mconnection \u001b[39mor\u001b[39;00m pool\u001b[39m.\u001b[39mget_connection(command_name, \u001b[39m*\u001b[39m\u001b[39m*\u001b[39moptions)\n\u001b[0;32m   1268\u001b[0m \u001b[39mtry\u001b[39;00m:\n\u001b[0;32m   1269\u001b[0m     \u001b[39mreturn\u001b[39;00m conn\u001b[39m.\u001b[39mretry\u001b[39m.\u001b[39mcall_with_retry(\n\u001b[1;32m-> 1270\u001b[0m         \u001b[39mlambda\u001b[39;00m: \u001b[39mself\u001b[39m\u001b[39m.\u001b[39m_send_command_parse_response(\n\u001b[0;32m   1271\u001b[0m             conn, command_name, \u001b[39m*\u001b[39margs, \u001b[39m*\u001b[39m\u001b[39m*\u001b[39moptions\n\u001b[0;32m   1272\u001b[0m         ),\n\u001b[0;32m   1273\u001b[0m         \u001b[39mlambda\u001b[39;00m error: \u001b[39mself\u001b[39m\u001b[39m.\u001b[39m_disconnect_raise(conn, error),\n\u001b[0;32m   1274\u001b[0m     )\n\u001b[0;32m   1275\u001b[0m \u001b[39mfinally\u001b[39;00m:\n\u001b[0;32m   1276\u001b[0m     \u001b[39mif\u001b[39;00m \u001b[39mnot\u001b[39;00m \u001b[39mself\u001b[39m\u001b[39m.\u001b[39mconnection:\n",
      "File \u001b[1;32m~\\AppData\\Local\\Packages\\PythonSoftwareFoundation.Python.3.9_qbz5n2kfra8p0\\LocalCache\\local-packages\\Python39\\site-packages\\redis\\client.py:1245\u001b[0m, in \u001b[0;36mRedis._send_command_parse_response\u001b[1;34m(self, conn, command_name, *args, **options)\u001b[0m\n\u001b[0;32m   1241\u001b[0m \u001b[39mdef\u001b[39;00m \u001b[39m_send_command_parse_response\u001b[39m(\u001b[39mself\u001b[39m, conn, command_name, \u001b[39m*\u001b[39margs, \u001b[39m*\u001b[39m\u001b[39m*\u001b[39moptions):\n\u001b[0;32m   1242\u001b[0m     \u001b[39m\"\"\"\u001b[39;00m\n\u001b[0;32m   1243\u001b[0m \u001b[39m    Send a command and parse the response\u001b[39;00m\n\u001b[0;32m   1244\u001b[0m \u001b[39m    \"\"\"\u001b[39;00m\n\u001b[1;32m-> 1245\u001b[0m     conn\u001b[39m.\u001b[39;49msend_command(\u001b[39m*\u001b[39;49margs)\n\u001b[0;32m   1246\u001b[0m     \u001b[39mreturn\u001b[39;00m \u001b[39mself\u001b[39m\u001b[39m.\u001b[39mparse_response(conn, command_name, \u001b[39m*\u001b[39m\u001b[39m*\u001b[39moptions)\n",
      "File \u001b[1;32m~\\AppData\\Local\\Packages\\PythonSoftwareFoundation.Python.3.9_qbz5n2kfra8p0\\LocalCache\\local-packages\\Python39\\site-packages\\redis\\connection.py:848\u001b[0m, in \u001b[0;36mAbstractConnection.send_command\u001b[1;34m(self, *args, **kwargs)\u001b[0m\n\u001b[0;32m    845\u001b[0m \u001b[39mdef\u001b[39;00m \u001b[39msend_command\u001b[39m(\u001b[39mself\u001b[39m, \u001b[39m*\u001b[39margs, \u001b[39m*\u001b[39m\u001b[39m*\u001b[39mkwargs):\n\u001b[0;32m    846\u001b[0m     \u001b[39m\"\"\"Pack and send a command to the Redis server\"\"\"\u001b[39;00m\n\u001b[0;32m    847\u001b[0m     \u001b[39mself\u001b[39m\u001b[39m.\u001b[39msend_packed_command(\n\u001b[1;32m--> 848\u001b[0m         \u001b[39mself\u001b[39;49m\u001b[39m.\u001b[39;49m_command_packer\u001b[39m.\u001b[39;49mpack(\u001b[39m*\u001b[39;49margs),\n\u001b[0;32m    849\u001b[0m         check_health\u001b[39m=\u001b[39mkwargs\u001b[39m.\u001b[39mget(\u001b[39m\"\u001b[39m\u001b[39mcheck_health\u001b[39m\u001b[39m\"\u001b[39m, \u001b[39mTrue\u001b[39;00m),\n\u001b[0;32m    850\u001b[0m     )\n",
      "File \u001b[1;32m~\\AppData\\Local\\Packages\\PythonSoftwareFoundation.Python.3.9_qbz5n2kfra8p0\\LocalCache\\local-packages\\Python39\\site-packages\\redis\\connection.py:558\u001b[0m, in \u001b[0;36mPythonRespSerializer.pack\u001b[1;34m(self, *args)\u001b[0m\n\u001b[0;32m    555\u001b[0m buff \u001b[39m=\u001b[39m SYM_EMPTY\u001b[39m.\u001b[39mjoin((SYM_STAR, \u001b[39mstr\u001b[39m(\u001b[39mlen\u001b[39m(args))\u001b[39m.\u001b[39mencode(), SYM_CRLF))\n\u001b[0;32m    557\u001b[0m buffer_cutoff \u001b[39m=\u001b[39m \u001b[39mself\u001b[39m\u001b[39m.\u001b[39m_buffer_cutoff\n\u001b[1;32m--> 558\u001b[0m \u001b[39mfor\u001b[39;00m arg \u001b[39min\u001b[39;00m \u001b[39mmap\u001b[39m(\u001b[39mself\u001b[39m\u001b[39m.\u001b[39mencode, args):\n\u001b[0;32m    559\u001b[0m     \u001b[39m# to avoid large string mallocs, chunk the command into the\u001b[39;00m\n\u001b[0;32m    560\u001b[0m     \u001b[39m# output list if we're sending large values or memoryviews\u001b[39;00m\n\u001b[0;32m    561\u001b[0m     arg_length \u001b[39m=\u001b[39m \u001b[39mlen\u001b[39m(arg)\n\u001b[0;32m    562\u001b[0m     \u001b[39mif\u001b[39;00m (\n\u001b[0;32m    563\u001b[0m         \u001b[39mlen\u001b[39m(buff) \u001b[39m>\u001b[39m buffer_cutoff\n\u001b[0;32m    564\u001b[0m         \u001b[39mor\u001b[39;00m arg_length \u001b[39m>\u001b[39m buffer_cutoff\n\u001b[0;32m    565\u001b[0m         \u001b[39mor\u001b[39;00m \u001b[39misinstance\u001b[39m(arg, \u001b[39mmemoryview\u001b[39m)\n\u001b[0;32m    566\u001b[0m     ):\n",
      "File \u001b[1;32m~\\AppData\\Local\\Packages\\PythonSoftwareFoundation.Python.3.9_qbz5n2kfra8p0\\LocalCache\\local-packages\\Python39\\site-packages\\redis\\connection.py:115\u001b[0m, in \u001b[0;36mEncoder.encode\u001b[1;34m(self, value)\u001b[0m\n\u001b[0;32m    112\u001b[0m \u001b[39melif\u001b[39;00m \u001b[39mnot\u001b[39;00m \u001b[39misinstance\u001b[39m(value, \u001b[39mstr\u001b[39m):\n\u001b[0;32m    113\u001b[0m     \u001b[39m# a value we don't know how to deal with. throw an error\u001b[39;00m\n\u001b[0;32m    114\u001b[0m     typename \u001b[39m=\u001b[39m \u001b[39mtype\u001b[39m(value)\u001b[39m.\u001b[39m\u001b[39m__name__\u001b[39m\n\u001b[1;32m--> 115\u001b[0m     \u001b[39mraise\u001b[39;00m DataError(\n\u001b[0;32m    116\u001b[0m         \u001b[39mf\u001b[39m\u001b[39m\"\u001b[39m\u001b[39mInvalid input of type: \u001b[39m\u001b[39m'\u001b[39m\u001b[39m{\u001b[39;00mtypename\u001b[39m}\u001b[39;00m\u001b[39m'\u001b[39m\u001b[39m. \u001b[39m\u001b[39m\"\u001b[39m\n\u001b[0;32m    117\u001b[0m         \u001b[39mf\u001b[39m\u001b[39m\"\u001b[39m\u001b[39mConvert to a bytes, string, int or float first.\u001b[39m\u001b[39m\"\u001b[39m\n\u001b[0;32m    118\u001b[0m     )\n\u001b[0;32m    119\u001b[0m \u001b[39mif\u001b[39;00m \u001b[39misinstance\u001b[39m(value, \u001b[39mstr\u001b[39m):\n\u001b[0;32m    120\u001b[0m     value \u001b[39m=\u001b[39m value\u001b[39m.\u001b[39mencode(\u001b[39mself\u001b[39m\u001b[39m.\u001b[39mencoding, \u001b[39mself\u001b[39m\u001b[39m.\u001b[39mencoding_errors)\n",
      "\u001b[1;31mDataError\u001b[0m: Invalid input of type: 'NoneType'. Convert to a bytes, string, int or float first."
     ]
    }
   ],
   "source": [
    "# create sample data\n",
    "users = [\n",
    "    {'id': 1, 'name': 'John Doe', 'age': 30, 'gender': 'male', 'location': 'New York'},\n",
    "    {'id': 2, 'name': 'Jane Smith', 'age': 25, 'gender': 'female', 'location': 'San Francisco'},\n",
    "    {'id': 3, 'name': 'Bob Johnson', 'age': 35, 'gender': 'male', 'location': 'Chicago'},\n",
    "]\n",
    "\n",
    "courses = [\n",
    "    {'id': 1, 'name': 'Yoga for Beginners', 'level': 'beginner', 'duration': 30, 'price': 50},\n",
    "    {'id': 2, 'name': 'Weight Training 101', 'level': 'intermediate', 'duration': 45, 'price': 75},\n",
    "    {'id': 3, 'name': 'Marathon Training', 'level': 'advanced', 'duration': 60, 'price': 100},\n",
    "]\n",
    "\n",
    "# store the data in Redis\n",
    "for user in users:\n",
    "    fake_redis.hset(f\"user:{user['id']}\", str(user))\n",
    "for course in courses:\n",
    "    fake_redis.hset(f\"course:{course['id']}\", str(course))"
   ]
  },
  {
   "cell_type": "code",
   "execution_count": 19,
   "metadata": {},
   "outputs": [
    {
     "name": "stdout",
     "output_type": "stream",
     "text": [
      "{'name': 'Nathan Kent', 'birthdate': datetime.date(1975, 8, 17), 'city': 'East Derek', 'country': 'Uganda', 'gender': 'male'}\n",
      "{'name': 'Donna Coleman', 'birthdate': datetime.date(1950, 7, 14), 'city': 'Port Seanhaven', 'country': 'Malawi', 'gender': 'female'}\n",
      "{'name': 'Ronald Taylor', 'birthdate': datetime.date(1959, 8, 10), 'city': 'Alvaradohaven', 'country': 'Comoros', 'gender': 'male'}\n",
      "{'name': 'Jessica Daniels', 'birthdate': datetime.date(1968, 1, 8), 'city': 'Livingstonmouth', 'country': 'Niger', 'gender': 'female'}\n",
      "{'name': 'Kendra Velasquez', 'birthdate': datetime.date(1960, 10, 25), 'city': 'East Juanton', 'country': 'Sierra Leone', 'gender': 'female'}\n",
      "{'name': 'Dillon Rodriguez', 'birthdate': datetime.date(2005, 12, 28), 'city': 'New Michelle', 'country': 'Saint Helena', 'gender': 'male'}\n",
      "{'name': 'Jay Duke', 'birthdate': datetime.date(1962, 11, 17), 'city': 'Lake Taylor', 'country': 'Aruba', 'gender': 'male'}\n",
      "{'name': 'Eric Lawson', 'birthdate': datetime.date(1929, 7, 30), 'city': 'Albertfort', 'country': 'Norfolk Island', 'gender': 'male'}\n",
      "{'name': 'Alexandria Quinn', 'birthdate': datetime.date(2007, 2, 12), 'city': 'Williamsborough', 'country': 'Iran', 'gender': 'female'}\n",
      "{'name': 'Isabella Cardenas', 'birthdate': datetime.date(1930, 1, 28), 'city': 'Martinezfurt', 'country': \"Cote d'Ivoire\", 'gender': 'female'}\n"
     ]
    }
   ],
   "source": [
    "from faker import Faker\n",
    "from gender_guesser.detector import Detector\n",
    "\n",
    "# Create an instance of the Faker class\n",
    "fake = Faker()\n",
    "# Create an instance of the Detector class\n",
    "detector = Detector()\n",
    "\n",
    "# Define the fields for your fake data\n",
    "fields = ['name', 'birthdate', 'gender', 'location']\n",
    "\n",
    "# Generate fake data for a specific number of records\n",
    "num_records = 10\n",
    "fake_data = []\n",
    "for _ in range(num_records):\n",
    "    #record = {field: fake.__getattr__(field)() for field in fields}\n",
    "    record = {'name': fake.name(), 'birthdate': fake.date_of_birth(), 'city': fake.city() , 'country': fake.country() }\n",
    "    record['gender'] = detector.get_gender(record['name'].split(' ')[0])\n",
    "    fake_data.append(record)\n",
    "\n",
    "# Print the generated fake data\n",
    "for record in fake_data:\n",
    "    print(record)"
   ]
  },
  {
   "cell_type": "code",
   "execution_count": null,
   "metadata": {},
   "outputs": [],
   "source": []
  },
  {
   "cell_type": "code",
   "execution_count": 18,
   "metadata": {},
   "outputs": [],
   "source": [
    "from gender_guesser.detector import Detector"
   ]
  },
  {
   "cell_type": "code",
   "execution_count": 9,
   "metadata": {},
   "outputs": [
    {
     "name": "stdout",
     "output_type": "stream",
     "text": [
      "Collecting faker\n",
      "  Downloading Faker-18.7.0-py3-none-any.whl (1.7 MB)\n",
      "     ---------------------------------------- 1.7/1.7 MB 4.7 MB/s eta 0:00:00\n",
      "Requirement already satisfied: python-dateutil>=2.4 in c:\\users\\x512\\appdata\\local\\packages\\pythonsoftwarefoundation.python.3.9_qbz5n2kfra8p0\\localcache\\local-packages\\python39\\site-packages (from faker) (2.8.2)\n",
      "Requirement already satisfied: six>=1.5 in c:\\users\\x512\\appdata\\local\\packages\\pythonsoftwarefoundation.python.3.9_qbz5n2kfra8p0\\localcache\\local-packages\\python39\\site-packages (from python-dateutil>=2.4->faker) (1.16.0)\n",
      "Installing collected packages: faker\n",
      "Successfully installed faker-18.7.0\n",
      "Note: you may need to restart the kernel to use updated packages.\n"
     ]
    },
    {
     "name": "stderr",
     "output_type": "stream",
     "text": [
      "\n",
      "[notice] A new release of pip available: 22.2.2 -> 23.1.2\n",
      "[notice] To update, run: C:\\Users\\X512\\AppData\\Local\\Microsoft\\WindowsApps\\PythonSoftwareFoundation.Python.3.9_qbz5n2kfra8p0\\python.exe -m pip install --upgrade pip\n"
     ]
    }
   ],
   "source": [
    "pip install faker"
   ]
  }
 ],
 "metadata": {
  "kernelspec": {
   "display_name": "Python 3",
   "language": "python",
   "name": "python3"
  },
  "language_info": {
   "codemirror_mode": {
    "name": "ipython",
    "version": 3
   },
   "file_extension": ".py",
   "mimetype": "text/x-python",
   "name": "python",
   "nbconvert_exporter": "python",
   "pygments_lexer": "ipython3",
   "version": "3.9.13"
  },
  "orig_nbformat": 4
 },
 "nbformat": 4,
 "nbformat_minor": 2
}
